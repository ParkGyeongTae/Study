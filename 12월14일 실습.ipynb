{
 "cells": [
  {
   "cell_type": "code",
   "execution_count": null,
   "metadata": {},
   "outputs": [],
   "source": [
    "import socket\n",
    "\n",
    "mysock = socket.socket(socket.AF_INET, socket.SOCK_STREAM)\n",
    "mysock.connect(('data.pr4e.org', 80))"
   ]
  },
  {
   "cell_type": "code",
   "execution_count": null,
   "metadata": {},
   "outputs": [],
   "source": [
    "import socket\n",
    "\n",
    "mysock = socket.socket(socket.AF_INET, socket.SOCK_STREAM)\n",
    "mysock.connect(('data.pr4e.org', 80))\n",
    "cmd = 'GET http://data.pr4e.org/romeo.txt HTTP/1.0\\r\\n\\r\\n'.encode()\n",
    "mysock.send(cmd)\n",
    "\n",
    "while True:\n",
    "    data = mysock.recv(512)\n",
    "    if (len(data) < 1):\n",
    "        break\n",
    "    print(data.decode(),end='')\n",
    "mysock.close()"
   ]
  },
  {
   "cell_type": "code",
   "execution_count": null,
   "metadata": {},
   "outputs": [],
   "source": [
    "import socket\n",
    "\n",
    "mysock = socket.socket(socket.AF_INET, socket.SOCK_STREAM)\n",
    "mysock.connect(('data.pr4e.org', 80))\n",
    "cmd = 'GET http://data.pr4e.org/romeo.txt HTTP/1.0\\r\\n\\r\\n'.encode()\n",
    "mysock.send(cmd)\n",
    "\n",
    "while True:\n",
    "    data = mysock.recv(512)\n",
    "    if (len(data) < 1):\n",
    "        break\n",
    "    print(data.decode(),end='')\n",
    "mysock.close()"
   ]
  },
  {
   "cell_type": "code",
   "execution_count": null,
   "metadata": {},
   "outputs": [],
   "source": [
    "print(ord('H'))\n",
    "print(ord('e'))\n",
    "print(ord('\\n'))\n",
    "\n",
    "\n",
    "a = '''HTTP/1.1 200 OK\n",
    "Date: Mon, 14 Dec 2020 01:03:26 GMT\n",
    "Server: Apache/2.4.18 (Ubuntu)\n",
    "Last-Modified: Sat, 13 May 2017 11:22:22 GMT\n",
    "ETag: \"a7-54f6609245537\"\n",
    "Accept-Ranges: bytes\n",
    "Content-Length: 167\n",
    "Cache-Control: max-age=0, no-cache, no-store, must-revalidate\n",
    "Pragma: no-cache\n",
    "Expires: Wed, 11 Jan 1984 05:00:00 GMT\n",
    "Connection: close\n",
    "Content-Type: text/plain\n",
    "\n",
    "But soft what light through yonder window breaks\n",
    "It is the east and Juliet is the sun\n",
    "Arise fair sun and kill the envious moon\n",
    "Who is already sick and pale with grief'''\n",
    "\n",
    "print(len(a))\n"
   ]
  },
  {
   "cell_type": "code",
   "execution_count": null,
   "metadata": {},
   "outputs": [],
   "source": [
    "x = '이광춘'\n",
    "print(type(x))\n",
    "x = u'이광춘'\n",
    "print(type(x))"
   ]
  },
  {
   "cell_type": "code",
   "execution_count": null,
   "metadata": {},
   "outputs": [],
   "source": [
    "import socket\n",
    "\n",
    "mysock = socket.socket(socket.AF_INET, socket.SOCK_STREAM)\n",
    "mysock.connect(('data.pr4e.org', 80))\n",
    "cmd = 'GET http://data.pr4e.org/romeo.txt HTTP/1.0\\n\\n'.encode()\n",
    "mysock.send(cmd)"
   ]
  },
  {
   "cell_type": "code",
   "execution_count": null,
   "metadata": {},
   "outputs": [],
   "source": [
    "while True:\n",
    "    data = mysock.recv(512)\n",
    "    if (len(data) < 1):\n",
    "        break\n",
    "    print(data.decode())\n",
    "mysock.close()"
   ]
  },
  {
   "cell_type": "code",
   "execution_count": null,
   "metadata": {},
   "outputs": [],
   "source": [
    "import urllib.request, urllib.parse, urllib.error\n",
    "\n",
    "fhand = urllib.request.urlopen('http://data.pr4e.org/romeo.txt')\n",
    "for line in fhand:\n",
    "    print(line.decode().strip())"
   ]
  },
  {
   "cell_type": "code",
   "execution_count": null,
   "metadata": {},
   "outputs": [],
   "source": [
    "import urllib.request, urllib.parse, urllib.error\n",
    "\n",
    "fhand = urllib.request.urlopen('http://data.pr4e.org/romeo.txt')\n",
    "\n",
    "counts = dict()\n",
    "for line in fhand:\n",
    "    words = line.decode().split()\n",
    "    for word in words:\n",
    "        counts[word] = counts.get(word, 0) + 1\n",
    "print(counts)"
   ]
  },
  {
   "cell_type": "code",
   "execution_count": null,
   "metadata": {},
   "outputs": [],
   "source": [
    "import urllib.request, urllib.parse, urllib.error\n",
    "\n",
    "fhand = urllib.request.urlopen('http://www.dr-chuck.com/page1.htm')\n",
    "for line in fhand:\n",
    "    print(line.decode().strip())"
   ]
  },
  {
   "cell_type": "code",
   "execution_count": null,
   "metadata": {},
   "outputs": [],
   "source": [
    "import urllib.request, urllib.parse, urllib.error\n",
    "\n",
    "fhand = urllib.request.urlopen('http://data.pr4e.org/romeo.txt')\n",
    "\n",
    "counts = dict()\n",
    "for line in fhand:\n",
    "    words = line.decode().split()\n",
    "    for word in words:\n",
    "        counts[word] = counts.get(word, 0) + 1\n",
    "print(counts)"
   ]
  },
  {
   "cell_type": "code",
   "execution_count": null,
   "metadata": {},
   "outputs": [],
   "source": [
    "import urllib.request, urllib.parse, urllib.error\n",
    "from bs4 import BeautifulSoup\n",
    "\n",
    "url = input('Enter - ')\n",
    "html = urllib.request.urlopen(url).read()\n",
    "soup = BeautifulSoup(html, 'html.parser')\n",
    "\n",
    "# Retrieve all of the anchor tags\n",
    "tags = soup('a')\n",
    "for tag in tags:\n",
    "    print(tag.get('href', None))"
   ]
  },
  {
   "cell_type": "code",
   "execution_count": null,
   "metadata": {},
   "outputs": [],
   "source": [
    "# To run this, you can install BeautifulSoup\n",
    "# https://pypi.python.org/pypi/beautifulsoup4\n",
    "\n",
    "# Or download the file\n",
    "# http://www.py4e.com/code3/bs4.zip\n",
    "# and unzip it in the same directory as this file\n",
    "\n",
    "import urllib.request, urllib.parse, urllib.error\n",
    "from bs4 import BeautifulSoup\n",
    "import ssl\n",
    "\n",
    "# Ignore SSL certificate errors\n",
    "ctx = ssl.create_default_context()\n",
    "ctx.check_hostname = False\n",
    "ctx.verify_mode = ssl.CERT_NONE\n",
    "\n",
    "url = input('Enter - ')\n",
    "html = urllib.request.urlopen(url, context=ctx).read()\n",
    "soup = BeautifulSoup(html, 'html.parser')\n",
    "\n",
    "# Retrieve all of the anchor tags\n",
    "tags = soup('a')\n",
    "for tag in tags:\n",
    "    print(tag.get('href', None))"
   ]
  },
  {
   "cell_type": "code",
   "execution_count": null,
   "metadata": {},
   "outputs": [],
   "source": [
    "class PartyAnimal:\n",
    "    x = 0\n",
    "    def party(self):\n",
    "        self.x = self.x + 1\n",
    "        print('So far', self.x)\n",
    "\n",
    "an = PartyAnimal()\n",
    "\n",
    "an.party()\n",
    "an.party()"
   ]
  },
  {
   "cell_type": "code",
   "execution_count": null,
   "metadata": {},
   "outputs": [],
   "source": [
    "class PartyAnimal:\n",
    "    x = 0\n",
    "    def party(self):\n",
    "        self.x += 1\n",
    "        print('So far', self.x)\n",
    "        \n",
    "    an = PartyAnimal()\n",
    "    \n",
    "    print(type(an))\n",
    "    print(dir(an))"
   ]
  },
  {
   "cell_type": "code",
   "execution_count": null,
   "metadata": {},
   "outputs": [],
   "source": [
    "class PartyAnimal:\n",
    "    \n",
    "    x = 0\n",
    "    \n",
    "    def __init__(self):\n",
    "        print('I am constructed')\n",
    "    \n",
    "    def party(self):\n",
    "        self.x += 1\n",
    "        print('So far :', self.x)\n",
    "    \n",
    "    def __del__(self):\n",
    "        print('I am destructed', self.x)\n",
    "        \n",
    "an = PartyAnimal()\n",
    "\n",
    "an.party()\n",
    "\n",
    "an = 42\n",
    "print(an)"
   ]
  },
  {
   "cell_type": "code",
   "execution_count": null,
   "metadata": {},
   "outputs": [],
   "source": [
    "class PartyAnimal:\n",
    "    \n",
    "    x = 0\n",
    "    \n",
    "    def party(self):\n",
    "        self.x += 1\n",
    "        print('So far :', self.x)\n",
    "        \n",
    "an = PartyAnimal()\n",
    "\n",
    "an.party()\n",
    "an.party()\n",
    "an.party()"
   ]
  },
  {
   "cell_type": "code",
   "execution_count": null,
   "metadata": {},
   "outputs": [],
   "source": [
    "class PartyAnimal:\n",
    "    \n",
    "    x = 0\n",
    "    \n",
    "    def __init__(self):\n",
    "        print('I am constructed')\n",
    "    \n",
    "    def party(self):\n",
    "        self.x += 1\n",
    "        print('So far :', self.x)\n",
    "        \n",
    "    def __del__(self):\n",
    "        print('I am destructed', self.x)\n",
    "\n",
    "an = PartyAnimal()\n",
    "an.party()\n",
    "an.party()\n",
    "a = 42\n"
   ]
  },
  {
   "cell_type": "code",
   "execution_count": null,
   "metadata": {},
   "outputs": [],
   "source": [
    "class PartyAnimal:\n",
    "    \n",
    "    x = 0\n",
    "    \n",
    "    def __init__(self):\n",
    "        print('I am constructed')\n",
    "    \n",
    "    def party(self):\n",
    "        self.x += 1\n",
    "        print('So far :', self.x)\n",
    "    \n",
    "    def __del__(self):\n",
    "        print('I am destructed', self.x)\n",
    "        \n",
    "an = PartyAnimal()\n",
    "an.party()\n",
    "an.party()\n",
    "a = 42"
   ]
  },
  {
   "cell_type": "code",
   "execution_count": null,
   "metadata": {
    "scrolled": false
   },
   "outputs": [],
   "source": [
    "class PartyAnimal:\n",
    "    \n",
    "    x = 0\n",
    "    \n",
    "    def __init__(self, z):\n",
    "        self.name = z\n",
    "        print(self.name, \"Constructed\")\n",
    "    \n",
    "    def parrty(self):\n",
    "        self.x = self.x + 1\n",
    "        print(self.name, 'party count', self.x)\n",
    "    \n",
    "s = PartyAnimal('Sally')\n",
    "j = PartyAnimal('Jim')\n",
    "\n",
    "s.parrty()\n",
    "j.parrty()\n",
    "s.parrty()"
   ]
  },
  {
   "cell_type": "code",
   "execution_count": null,
   "metadata": {},
   "outputs": [],
   "source": [
    "class PartyAnimal:\n",
    "    \n",
    "    x = 0\n",
    "    name = \"\"\n",
    "    \n",
    "    def __init__(self, nam):\n",
    "        self.name = nam\n",
    "        print(self.name, \"Constructed\")\n",
    "    \n",
    "    def party(self):\n",
    "        self.x = self.x + 1\n",
    "        print(self.name, 'party count', self.x)\n",
    "\n",
    "class FootballFan(PartyAnimal):\n",
    "    \n",
    "    points = 0\n",
    "    \n",
    "    def touchdown(self):\n",
    "        self.points = self.points + 7\n",
    "        self.party()\n",
    "        print(self.name, 'points', self.points)\n",
    "\n",
    "s = PartyAnimal('Sally')\n",
    "s.party()\n",
    "\n",
    "j = FootballFan('Jim')\n",
    "j.party()\n",
    "j.touchdown()"
   ]
  },
  {
   "cell_type": "code",
   "execution_count": null,
   "metadata": {},
   "outputs": [],
   "source": [
    "list = [1, 2, 3, 4, 5, 6, 7]\n",
    "list.append(10)\n",
    "print(list)"
   ]
  },
  {
   "cell_type": "code",
   "execution_count": null,
   "metadata": {},
   "outputs": [],
   "source": [
    "list = [1, 2, 3, 4, 5, 6, 7]\n",
    "list.append('10')\n",
    "print(list)"
   ]
  },
  {
   "cell_type": "code",
   "execution_count": null,
   "metadata": {},
   "outputs": [],
   "source": [
    "result = 0\n",
    "\n",
    "def add(num):\n",
    "    global result\n",
    "    result += num\n",
    "    return result\n",
    "\n",
    "print(add(3))\n",
    "print(add(4))"
   ]
  },
  {
   "cell_type": "code",
   "execution_count": null,
   "metadata": {},
   "outputs": [],
   "source": [
    "result1 = 0\n",
    "result2 = 0\n",
    "\n",
    "def add1(num):\n",
    "    global result1\n",
    "    result1 += num\n",
    "    return result1\n",
    "\n",
    "def add2(num):\n",
    "    global result2\n",
    "    result2 += num\n",
    "    return result2\n",
    "\n",
    "print(add1(3))\n",
    "print(add1(4))\n",
    "print(add2(3))\n",
    "print(add2(7))"
   ]
  },
  {
   "cell_type": "code",
   "execution_count": null,
   "metadata": {
    "scrolled": true
   },
   "outputs": [],
   "source": [
    "class Calculator:\n",
    "    \n",
    "    def __init__(self):\n",
    "        self.result = 0\n",
    "    \n",
    "    def add(self, num):\n",
    "        self.result += num\n",
    "        return self.result\n",
    "    \n",
    "cal1 = Calculator()\n",
    "cal2 = Calculator()\n",
    "\n",
    "print(cal1.add(3))\n",
    "print(cal1.add(4))\n",
    "print(cal2.add(3))\n",
    "print(cal2.add(7))"
   ]
  },
  {
   "cell_type": "code",
   "execution_count": null,
   "metadata": {},
   "outputs": [],
   "source": [
    "class Calculator:\n",
    "    \n",
    "    def __init__(self):\n",
    "        self.result = 0\n",
    "    \n",
    "    def add(self, num):\n",
    "        self.result += num\n",
    "        return self.result\n",
    "    \n",
    "cal1 = Calculator()\n",
    "cal2 = Calculator()\n",
    "\n",
    "print(cal1.add(3))\n",
    "print(cal1.add(4))\n",
    "print(cal2.add(3))\n",
    "print(cal2.add(7))"
   ]
  },
  {
   "cell_type": "code",
   "execution_count": null,
   "metadata": {},
   "outputs": [],
   "source": [
    "class Rectangle:\n",
    "    \n",
    "    count = 0\n",
    "    \n",
    "    def __init__(self, width, height):\n",
    "        self.width = width\n",
    "        self.height = height\n",
    "        Rectangle.count += 1\n",
    "    \n",
    "    def calcArea(self):\n",
    "        area = self.width * self.height\n",
    "        return area"
   ]
  },
  {
   "cell_type": "code",
   "execution_count": null,
   "metadata": {},
   "outputs": [],
   "source": [
    "class Rectangle:\n",
    "    count = 0\n",
    "    \n",
    "    def __init__(self, width, height):\n",
    "        self.width = width\n",
    "        self.height = height\n",
    "        Rectangle.count += 1\n",
    "        \n",
    "    def calcArea(self):\n",
    "        area = self.width * self.height\n",
    "        return area\n",
    "    \n",
    "    def isSquare(rectWidth, rectHeight):\n",
    "        return rectWidth == rectHeight\n",
    "    \n",
    "    def printCount(cls):\n",
    "        print(cls.count)\n",
    "\n",
    "square = Rectangle.isSquare(5, 5)\n",
    "print(square)\n",
    "\n",
    "rect1 = Rectangle(5, 5)\n",
    "rect2 = Rectangle(2, 5)\n",
    "rect1.printCount()"
   ]
  },
  {
   "cell_type": "code",
   "execution_count": null,
   "metadata": {},
   "outputs": [],
   "source": [
    "class Rectangle:\n",
    "    count = 0\n",
    "    \n",
    "    def __init__(self, width, height):\n",
    "        self.width = width\n",
    "        self.height = height\n",
    "        Rectangle.count += 1\n",
    "        \n",
    "    def calcArea(self):\n",
    "        area = self.width * self.height\n",
    "        return area\n",
    "    \n",
    "    def isSquare(rectWidth, rectHeight):\n",
    "        return rectWidth == rectHeight\n",
    "    \n",
    "    def printCount(cls):\n",
    "        print(cls.count)\n",
    "        \n",
    "square = Rectangle.isSquare(5, 5)\n",
    "print(square)\n",
    "\n",
    "rect1 = Rectangle(5, 5)\n",
    "rect2 = Rectangle(2, 5)\n",
    "rect1.printCount()\n",
    "rect2.printCount()"
   ]
  },
  {
   "cell_type": "code",
   "execution_count": null,
   "metadata": {},
   "outputs": [],
   "source": [
    "class Account:\n",
    "    num_accounts = 0\n",
    "    def __init__(self, name):\n",
    "        self.name = name\n",
    "        Account.num_accounts += 1\n",
    "    def __del__(self):\n",
    "        Account.num_accounts -= 1\n",
    "\n",
    "kim = Account('Kim')\n",
    "lee = Account('lee')\n",
    "\n",
    "print(kim)"
   ]
  },
  {
   "cell_type": "code",
   "execution_count": null,
   "metadata": {},
   "outputs": [],
   "source": [
    "class Person:\n",
    "    \n",
    "    def __init__(self, name, email):\n",
    "        self.name = name\n",
    "        self.email = email\n",
    "    \n",
    "    def speak(self, language):\n",
    "        print('{}의 사용언어는 {}입니다.'.format(self.name, language))\n",
    "        \n",
    "    def displayInfo(self):\n",
    "        print('{}의 이메일은 {} 입니다.'.format(self.name, self.email))\n",
    "    \n",
    "class Student(Person):\n",
    "    def __init__(self, name, email):\n",
    "        self.name = name\n",
    "        self.email = email\n",
    "    \n",
    "    def speak(self, language):\n",
    "        super().speak(language)\n",
    "        print('{}은 {}언어로 말합니다.'.format(self.name, language))\n",
    "\n",
    "stu1 = Student('Hana', 'haha@a.com')\n",
    "stu1.speak('korean')\n",
    "stu1.displayInfo()"
   ]
  },
  {
   "cell_type": "code",
   "execution_count": null,
   "metadata": {},
   "outputs": [],
   "source": [
    "import math\n",
    "\n",
    "class ComplexNumber:\n",
    "    def __init__(self, real, img):\n",
    "        self.real = real\n",
    "        self.img = img\n",
    "    \n",
    "    def __add__(self, cn):\n",
    "        return ComplexNumber(self.real + cn.real, self.img + cn.img)\n",
    "    \n",
    "    def __sub__(self, cn):\n",
    "        return ComplexNumber(self.real - cn.real, self.img - cn.img)\n",
    "    \n",
    "    def __mul__(self, x):\n",
    "        if type(x) == int:\n",
    "            return ComplexNumber(self.real * x, self.img * x)\n",
    "        elif type(x) == ComplexNumber:\n",
    "            return ComplexNumber(self.real * x.real - self.img * x.img,\n",
    "                                self.real * x.img + self.img * x.real)\n",
    "        \n",
    "    def __str__(self):\n",
    "        if self.img >= 0:\n",
    "            return '{} + {}j'.format(self.real, self.img)\n",
    "        else:\n",
    "            return '{} - {}j'.format(self.real, abs(self.img))\n",
    "    \n",
    "    def __eq__(self, cn):\n",
    "        return self.real == cn.real and self.img == cn.img\n",
    "    \n",
    "    def __ne__(self, cn):\n",
    "        return not (self.real == cn.real and self.img == cn.img)\n",
    "    \n",
    "    def __abs__(self):\n",
    "        return math.sqrt(self.real ** 2 + self.img ** 2)\n",
    "    \n",
    "    def __len__(self):\n",
    "        return self.real ** 2 + self.img ** 2\n",
    "    \n",
    "a = ComplexNumber(3, 2)\n",
    "b = ComplexNumber(2, 5)\n",
    "print(\"복소수 a : \",a)\n",
    "print(\"복소수 b : \",b)\n",
    "print(\"복소수 a+b : \",a + b)\n",
    "print(\"복소수 a-b : \",a - b)\n",
    "print(\"복소수 a*b : \",a * b)\n",
    "print(\"복소수 a와 b가 같은가 ? \",a == b)\n",
    "print(\"복소수 a와 b가 다른가 ? \",a != b)\n",
    "print(\"복소수 a 크기 : \",abs(a))\n",
    "print(\"복소수 a 크기의 제곱 : \",len(a))\n"
   ]
  },
  {
   "cell_type": "code",
   "execution_count": null,
   "metadata": {},
   "outputs": [],
   "source": [
    "def scope_test():\n",
    "    \n",
    "    def do_local():\n",
    "        spam = 'local spam'\n",
    "    \n",
    "    def do_nonlocal():\n",
    "        nonlocal spam\n",
    "        spam = 'nonlocal spam'\n",
    "    \n",
    "    def do_global():\n",
    "        global spam\n",
    "        spam = 'global spam'\n",
    "        \n",
    "    spam = 'test spam'\n",
    "    do_local()\n",
    "    print('After local assignment:', spam)\n",
    "    do_nonlocal()\n",
    "    print('After nonlocal assignment:', spam)\n",
    "    do_global()\n",
    "    print('After global assignment', spam)\n",
    "\n",
    "scope_test()\n",
    "print('in global scope:', spam)"
   ]
  },
  {
   "cell_type": "code",
   "execution_count": null,
   "metadata": {},
   "outputs": [],
   "source": [
    "class Person:\n",
    "    \n",
    "    def __init__(self, name, email):\n",
    "        self.name = name\n",
    "        self.email = email\n",
    "        \n",
    "    def speak(self, language):\n",
    "        print('{}의 사용언어는 {}입니다.'.format(self.name, language))\n",
    "        \n",
    "    def displayInfo(self):\n",
    "        print('{}의 이메일은 {}입니다.'.format(self.name, self.email))\n",
    "        \n",
    "class Student(Person):\n",
    "    \n",
    "    def __init__(self, name, email):\n",
    "        self.name = name\n",
    "        self.email = email\n",
    "        \n",
    "    def speak(self, language):\n",
    "        super().speak(language)\n",
    "        print('{}은 {} 언어로 말합니다.'.format(self.name, language))\n",
    "        \n",
    "stu1 = Student('Hana', 'haha@a.com')\n",
    "stu1.speak('korean')\n",
    "stu1.displayInfo()"
   ]
  },
  {
   "cell_type": "code",
   "execution_count": null,
   "metadata": {},
   "outputs": [],
   "source": [
    "class robot:\n",
    "    \n",
    "    name = 'robot'\n",
    "    \n",
    "    def info(self):\n",
    "        print('나의 이름은', self.name, '입니다!')\n",
    "    \n",
    "r = robot()\n",
    "\n",
    "r.info()"
   ]
  },
  {
   "cell_type": "code",
   "execution_count": null,
   "metadata": {},
   "outputs": [],
   "source": [
    "class robot:\n",
    "    \n",
    "    name = 'robot'\n",
    "    age = 0\n",
    "    \n",
    "    def __init__(self, name, age):\n",
    "        print('생성자 호출!')\n",
    "        self.name = name\n",
    "        self.age = age\n",
    "    \n",
    "    def __del__(self):\n",
    "        print('소멸자 호출!')\n",
    "        \n",
    "    def info(self):\n",
    "        print('나의 이름은', self.name, '입니다!')\n",
    "        print('나이는', self.age, '입니다!')\n",
    "\n",
    "r = robot('bill', 7)\n",
    "\n",
    "r.info()\n",
    "\n",
    "del r"
   ]
  },
  {
   "cell_type": "code",
   "execution_count": null,
   "metadata": {},
   "outputs": [],
   "source": [
    "value = 0\n",
    "\n",
    "while True:\n",
    "    print('\\n현재 값 :', value)\n",
    "    try:\n",
    "        line = input('작업 명령 입력 : ')\n",
    "    except:\n",
    "        print('잘못 입력했습니다.')\n",
    "        break\n",
    "    tokens = line.split()\n",
    "    \n",
    "    if len(tokens) > 0:\n",
    "        operator = tokens[0]\n",
    "        \n",
    "        if len(tokens) == 1:\n",
    "            if operator == 'x':\n",
    "                break\n",
    "            print('잘못된 작업 명령 !!')\n",
    "        elif len(tokens) == 2:\n",
    "            operand = float(tokens[1])\n",
    "            if operator == '=':\n",
    "                value = operand\n",
    "            elif operator == '+':\n",
    "                value += operand\n",
    "            elif operator == '*':\n",
    "                value *= operand\n",
    "            elif operator == '/' or operator == '%':\n",
    "                if operand != 0:\n",
    "                    if operator == '/':\n",
    "                        value /= operand\n",
    "                    else:\n",
    "                        value %= operand\n",
    "                else:\n",
    "                    print('잘못된 작업 명령(0으로 나누기)!!')\n",
    "            else:\n",
    "                print('잘못된 작업 명령!!')\n",
    "        else:\n",
    "            print('잘못된 작업 명령!!')\n",
    "            "
   ]
  },
  {
   "cell_type": "code",
   "execution_count": 1,
   "metadata": {},
   "outputs": [
    {
     "name": "stdout",
     "output_type": "stream",
     "text": [
      "학생이름 : 서진\n",
      "학번 : 2019-123456\n"
     ]
    }
   ],
   "source": [
    "class Student:\n",
    "    \n",
    "    name = '서진'\n",
    "    no = '2019-123456'\n",
    "    \n",
    "    def prStudent(self):\n",
    "        print('학생이름 :', self.name)\n",
    "        print('학번 :', self.no)\n",
    "    \n",
    "student1 = Student()\n",
    "student1.prStudent()"
   ]
  },
  {
   "cell_type": "code",
   "execution_count": 4,
   "metadata": {},
   "outputs": [
    {
     "name": "stdout",
     "output_type": "stream",
     "text": [
      "학생이름 : 서진\n",
      "학번 : 16-123456\n"
     ]
    }
   ],
   "source": [
    "class Student:\n",
    "    \n",
    "    def __init__(self, name, no):\n",
    "        self.name = name\n",
    "        self.no = no\n",
    "    \n",
    "    def prStudent(self):\n",
    "        print('학생이름 :', self.name)\n",
    "        print('학번 :', self.no)\n",
    "    \n",
    "student1 = Student('서진', '16-123456')\n",
    "student1.prStudent()"
   ]
  },
  {
   "cell_type": "code",
   "execution_count": 6,
   "metadata": {},
   "outputs": [
    {
     "name": "stdout",
     "output_type": "stream",
     "text": [
      "<class 'str'>\n",
      "<class 'int'>\n"
     ]
    }
   ],
   "source": [
    "print(type('string'))\n",
    "print(type(1))"
   ]
  },
  {
   "cell_type": "code",
   "execution_count": 7,
   "metadata": {},
   "outputs": [],
   "source": [
    "class TestClass:\n",
    "    pass"
   ]
  },
  {
   "cell_type": "code",
   "execution_count": 8,
   "metadata": {},
   "outputs": [],
   "source": [
    "test_instance = TestClass()"
   ]
  },
  {
   "cell_type": "code",
   "execution_count": 9,
   "metadata": {},
   "outputs": [],
   "source": [
    "test_instance1 = TestClass()\n",
    "test_instance2 = TestClass()\n",
    "test_instance3 = TestClass()"
   ]
  },
  {
   "cell_type": "code",
   "execution_count": 10,
   "metadata": {},
   "outputs": [
    {
     "name": "stdout",
     "output_type": "stream",
     "text": [
      "<class '__main__.TestClass'>\n"
     ]
    }
   ],
   "source": [
    "print(type(test_instance))"
   ]
  },
  {
   "cell_type": "code",
   "execution_count": 11,
   "metadata": {},
   "outputs": [],
   "source": [
    "class Musician:\n",
    "    title = 'Rockstar'"
   ]
  },
  {
   "cell_type": "code",
   "execution_count": 12,
   "metadata": {},
   "outputs": [
    {
     "name": "stdout",
     "output_type": "stream",
     "text": [
      "Rockstar\n",
      "Rockstar\n"
     ]
    }
   ],
   "source": [
    "drummer = Musician()\n",
    "guitarist = Musician()\n",
    "\n",
    "print(drummer.title)\n",
    "print(guitarist.title)"
   ]
  },
  {
   "cell_type": "code",
   "execution_count": 13,
   "metadata": {},
   "outputs": [
    {
     "name": "stdout",
     "output_type": "stream",
     "text": [
      "I am a Rockstar!\n"
     ]
    }
   ],
   "source": [
    "class Musician:\n",
    "    title = 'Rockstar'\n",
    "    \n",
    "    def explanation(self):\n",
    "        print('I am a {}!'.format(self.title))\n",
    "\n",
    "drummer = Musician()\n",
    "drummer.explanation()"
   ]
  },
  {
   "cell_type": "code",
   "execution_count": 16,
   "metadata": {},
   "outputs": [
    {
     "name": "stdout",
     "output_type": "stream",
     "text": [
      "113.04\n",
      "1017.36\n"
     ]
    }
   ],
   "source": [
    "class Circle():\n",
    "    pi = 3.14\n",
    "    \n",
    "    def area(self, radius):\n",
    "        return self.pi*radius**2\n",
    "    \n",
    "circle = Circle()\n",
    "\n",
    "pizza_area = circle.area(6)\n",
    "print(pizza_area)\n",
    "\n",
    "table_area = circle.area(18)\n",
    "print(table_area)"
   ]
  },
  {
   "cell_type": "code",
   "execution_count": 22,
   "metadata": {},
   "outputs": [
    {
     "name": "stdout",
     "output_type": "stream",
     "text": [
      "Hello?\n"
     ]
    }
   ],
   "source": [
    "class Shouter:\n",
    "    def __init__(self):\n",
    "        print('Hello?')\n",
    "\n",
    "shout = Shouter()"
   ]
  },
  {
   "cell_type": "code",
   "execution_count": 23,
   "metadata": {},
   "outputs": [
    {
     "name": "stdout",
     "output_type": "stream",
     "text": [
      "New circle with radius : 18\n"
     ]
    }
   ],
   "source": [
    "class Circle:\n",
    "    pi = 3.14\n",
    "    \n",
    "    def __init__(self, radius):\n",
    "        print('New circle with radius : {}'.format(radius))\n",
    "        \n",
    "table = Circle(18)"
   ]
  },
  {
   "cell_type": "code",
   "execution_count": 27,
   "metadata": {},
   "outputs": [
    {
     "name": "stdout",
     "output_type": "stream",
     "text": [
      "야옹~야옹~\n",
      "야옹~야옹~\n"
     ]
    }
   ],
   "source": [
    "class Cat:\n",
    "    \n",
    "    def meow(self):\n",
    "        print('야옹~야옹~')\n",
    "cat1 = Cat()\n",
    "cat1.meow()\n",
    "\n",
    "cat2 = Cat()\n",
    "cat2.meow()\n",
    "\n",
    "cat3 = Cat()"
   ]
  },
  {
   "cell_type": "code",
   "execution_count": 28,
   "metadata": {},
   "outputs": [
    {
     "name": "stdout",
     "output_type": "stream",
     "text": [
      "고양이 이름은 나비 색깔은 검정색\n"
     ]
    }
   ],
   "source": [
    "class Cat:\n",
    "    \n",
    "    def info(self):\n",
    "        self.name = '나비'\n",
    "        self.color = '검정색'\n",
    "        print('고양이 이름은', self.name, '색깔은', self.color)\n",
    "        \n",
    "cat1 = Cat()\n",
    "cat1.info()"
   ]
  },
  {
   "cell_type": "code",
   "execution_count": 35,
   "metadata": {},
   "outputs": [
    {
     "name": "stdout",
     "output_type": "stream",
     "text": [
      "고양이 이름은 네로 색깔은 검정색\n",
      "고양이 이름은 미미 색깔은 갈색\n",
      "고양이 이름은 나비 색깔은 흰색\n"
     ]
    }
   ],
   "source": [
    "class Cat:\n",
    "    \n",
    "    def __init__(self, name = '나비', color = '흰색'):\n",
    "        self.name = name\n",
    "        self.color = color\n",
    "    \n",
    "    def info(self):\n",
    "        print('고양이 이름은', self.name, '색깔은', self.color)\n",
    "        \n",
    "cat1 = Cat('네로', '검정색')\n",
    "cat1.info()\n",
    "\n",
    "cat2 = Cat('미미', '갈색')\n",
    "cat2.info()\n",
    "\n",
    "car3 = Cat()\n",
    "car3.info()"
   ]
  },
  {
   "cell_type": "code",
   "execution_count": 52,
   "metadata": {},
   "outputs": [],
   "source": [
    "class Person:\n",
    "    \n",
    "    def __init__(self, name, age):\n",
    "        self.name = name\n",
    "        self.age = age\n",
    "    \n",
    "    def say_hello(self, to_name):\n",
    "        print('안녕!', to_name, '나는', self.name)\n",
    "        \n",
    "    def introduce(self):\n",
    "        print('내 이름은', self.name, '그리고 나는', self.age, '살이야.')\n",
    "\n",
    "class Police(Person):\n",
    "    \n",
    "    def arrest(self, to_arrest):\n",
    "        print('넌 체포됐다.', to_arrest)\n",
    "    \n",
    "class Programmer(Person):\n",
    "    \n",
    "    def program(self, to_program):\n",
    "        print('다음엔 뭘 만들지? 아 이걸 만들어야겠다 :', to_program)\n",
    "        \n",
    "wonie = Person('워니', 20)\n",
    "jenny = Police('제니', 20)\n",
    "michael = Programmer('마이클', 22)\n"
   ]
  },
  {
   "cell_type": "code",
   "execution_count": 55,
   "metadata": {},
   "outputs": [
    {
     "name": "stdout",
     "output_type": "stream",
     "text": [
      "strong_robot 생성자 호출!\n",
      "robot 생성자 호출!\n",
      "robot 소멸자 호출!\n",
      "나의 이름은 hulk 입니다!\n",
      "나이는 3 입니다!\n",
      "sword 로 싸웁니다!\n"
     ]
    }
   ],
   "source": [
    "class robot:\n",
    "    \n",
    "    name = 'robot'\n",
    "    age = 0\n",
    "    \n",
    "    def __init__(self, name, age):\n",
    "        print('robot 생성자 호출!')\n",
    "        self.name = name\n",
    "        self.age = age\n",
    "    \n",
    "    def __del__(self):\n",
    "        print('robot 소멸자 호출!')\n",
    "    \n",
    "    def info(self):\n",
    "        print('나의 이름은', self.name, '입니다!')\n",
    "        print('나이는', self.age, '입니다!')\n",
    "    \n",
    "class strong_robot(robot):\n",
    "    \n",
    "    weapon = 'gun'\n",
    "    \n",
    "    def __init__(self, name, age, weapon):\n",
    "        print('strong_robot 생성자 호출!')\n",
    "        super().__init__(name, age)\n",
    "        self.weapon = weapon\n",
    "    \n",
    "    def info(self):\n",
    "        super().info()\n",
    "        print(self.weapon, '로 싸웁니다!')\n",
    "\n",
    "s = strong_robot('hulk', 3, 'sword')\n",
    "s.info()"
   ]
  },
  {
   "cell_type": "code",
   "execution_count": 59,
   "metadata": {},
   "outputs": [
    {
     "data": {
      "text/plain": [
       "20"
      ]
     },
     "execution_count": 59,
     "metadata": {},
     "output_type": "execute_result"
    }
   ],
   "source": [
    "class test:\n",
    "    \n",
    "    __data = 10\n",
    "    \n",
    "    def getData(self):\n",
    "        return self.__data\n",
    "    def setData(self, data):\n",
    "        self.__data = data\n",
    "        \n",
    "t = test()\n",
    "t.getData()\n",
    "t.setData(20)\n",
    "t.getData()"
   ]
  },
  {
   "cell_type": "code",
   "execution_count": 67,
   "metadata": {},
   "outputs": [
    {
     "name": "stdout",
     "output_type": "stream",
     "text": [
      "30\n",
      "30\n"
     ]
    }
   ],
   "source": [
    "class test:\n",
    "    \n",
    "    data = 10\n",
    "    \n",
    "    def __init__(self, data):\n",
    "        self.data = data\n",
    "    \n",
    "    def printClass(cls):\n",
    "        print(cls.data)\n",
    "    \n",
    "    def printInstance(self):\n",
    "        print(self.data)\n",
    "        \n",
    "t = test(30)\n",
    "test.data\n",
    "t.data\n",
    "t.printClass()\n",
    "t.printInstance()"
   ]
  },
  {
   "cell_type": "code",
   "execution_count": null,
   "metadata": {},
   "outputs": [],
   "source": []
  }
 ],
 "metadata": {
  "kernelspec": {
   "display_name": "Python 3",
   "language": "python",
   "name": "python3"
  },
  "language_info": {
   "codemirror_mode": {
    "name": "ipython",
    "version": 3
   },
   "file_extension": ".py",
   "mimetype": "text/x-python",
   "name": "python",
   "nbconvert_exporter": "python",
   "pygments_lexer": "ipython3",
   "version": "3.8.5"
  }
 },
 "nbformat": 4,
 "nbformat_minor": 4
}
